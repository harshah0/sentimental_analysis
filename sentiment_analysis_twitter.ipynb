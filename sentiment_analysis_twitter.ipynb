{
  "cells": [
    {
      "cell_type": "code",
      "execution_count": null,
      "metadata": {
        "colab": {
          "base_uri": "https://localhost:8080/",
          "height": 74
        },
        "id": "oQEU-foCHDhR",
        "outputId": "c0b0d7b9-5f7c-4d61-cd60-d795a38803fb"
      },
      "outputs": [],
      "source": [
        "from google.colab import files\n",
        "uploaded = files.upload()\n"
      ]
    },
    {
      "cell_type": "code",
      "execution_count": null,
      "metadata": {
        "colab": {
          "base_uri": "https://localhost:8080/"
        },
        "id": "J8r45g0kJG-M",
        "outputId": "af1651c1-a02b-4468-8487-c7fb15a2c927"
      },
      "outputs": [],
      "source": [
        "# Step 1: Install dependencies (if not already installed)\n",
        "!pip install nltk scikit-learn\n",
        "\n",
        "# Step 2: Import libraries\n",
        "import pandas as pd\n",
        "import numpy as np\n",
        "import nltk\n",
        "import re\n",
        "import string\n",
        "from nltk.corpus import stopwords\n",
        "from nltk.stem import WordNetLemmatizer\n",
        "from sklearn.model_selection import train_test_split\n",
        "from sklearn.feature_extraction.text import TfidfVectorizer\n",
        "from sklearn.linear_model import LogisticRegression\n",
        "from sklearn.metrics import classification_report, accuracy_score\n",
        "import pickle\n"
      ]
    },
    {
      "cell_type": "code",
      "execution_count": null,
      "metadata": {
        "colab": {
          "base_uri": "https://localhost:8080/"
        },
        "id": "RXZyMcF_LzBS",
        "outputId": "401a8dd0-03a9-48b1-f6b6-1a14cccbb15d"
      },
      "outputs": [],
      "source": [
        "\n",
        "# Step 3: Download NLTK resources\n",
        "nltk.download('stopwords')\n",
        "nltk.download('wordnet')\n",
        "nltk.download('omw-1.4')\n",
        "\n",
        "# Step 4: Load your dataset\n",
        "df = pd.read_csv(\"train.csv\")  # uploaded via Colab\n",
        "df = df[['tweet', 'label']]  # If column names differ, adjust here\n",
        "df.columns = ['text', 'sentiment']\n",
        "df.dropna(inplace=True)\n",
        "\n",
        "# Step 5: Clean and preprocess tweets\n",
        "stop_words = set(stopwords.words('english'))\n",
        "lemmatizer = WordNetLemmatizer()\n",
        "\n",
        "def preprocess(text):\n",
        "    text = re.sub(r\"http\\S+|@\\w+|#\\w+\", \"\", text)  # remove URLs, mentions, hashtags\n",
        "    text = text.lower()\n",
        "    text = text.translate(str.maketrans('', '', string.punctuation))  # remove punctuation\n",
        "    words = text.split()\n",
        "    words = [lemmatizer.lemmatize(w) for w in words if w not in stop_words]\n",
        "    return \" \".join(words)\n",
        "\n",
        "df['clean_text'] = df['text'].apply(preprocess)\n",
        "\n",
        "# Step 6: Vectorization\n",
        "tfidf = TfidfVectorizer(max_features=5000)\n",
        "X = tfidf.fit_transform(df['clean_text']).toarray()\n",
        "y = df['sentiment']\n",
        "\n",
        "# Step 7: Train-Test Split\n",
        "X_train, X_test, y_train, y_test = train_test_split(X, y, test_size=0.2, random_state=42)\n",
        "\n",
        "# Step 8: Train Model\n",
        "model = LogisticRegression()\n",
        "model.fit(X_train, y_train)\n",
        "\n",
        "# Step 9: Evaluate\n",
        "y_pred = model.predict(X_test)\n",
        "print(\"Accuracy:\", accuracy_score(y_test, y_pred))\n",
        "print(\"Classification Report:\\n\", classification_report(y_test, y_pred))\n",
        "\n",
        "# Step 10: Save model and vectorizer\n",
        "with open(\"sentiment_model.pkl\", \"wb\") as f:\n",
        "    pickle.dump(model, f)\n",
        "\n",
        "with open(\"tfidf_vectorizer.pkl\", \"wb\") as f:\n",
        "    pickle.dump(tfidf, f)\n",
        "\n",
        "print(\"Model and vectorizer saved!\")\n",
        "\n",
        "# Predict sentiment on test set and save to CSV\n",
        "df_test = df.sample(100)  # Or however many you'd like\n",
        "df_test['clean_text'] = df_test['text'].apply(preprocess)\n",
        "X_test = tfidf.transform(df_test['clean_text'])\n",
        "df_test['predicted_sentiment'] = model.predict(X_test)\n",
        "\n",
        "# Save as CSV\n",
        "df_test[['text', 'predicted_sentiment']].to_csv(\"test_data.csv\", index=False)\n",
        "print(\"test_data.csv saved!\")\n",
        "\n"
      ]
    },
    {
      "cell_type": "code",
      "execution_count": 30,
      "metadata": {
        "id": "7VJs4R_HRCd2"
      },
      "outputs": [],
      "source": [
        "with open(\"requirements.txt\", \"w\") as f:\n",
        "    f.write(\"nltk\\nscikit-learn\\npandas\\n\")\n"
      ]
    }
  ],
  "metadata": {
    "colab": {
      "provenance": []
    },
    "kernelspec": {
      "display_name": "Python 3",
      "name": "python3"
    },
    "language_info": {
      "name": "python"
    }
  },
  "nbformat": 4,
  "nbformat_minor": 0
}
